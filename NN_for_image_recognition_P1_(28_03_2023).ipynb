{
  "cells": [
    {
      "cell_type": "markdown",
      "metadata": {
        "id": "view-in-github",
        "colab_type": "text"
      },
      "source": [
        "<a href=\"https://colab.research.google.com/github/ariang/fs23ads/blob/main/NN_for_image_recognition_P1_(28_03_2023).ipynb\" target=\"_parent\"><img src=\"https://colab.research.google.com/assets/colab-badge.svg\" alt=\"Open In Colab\"/></a>"
      ]
    },
    {
      "cell_type": "markdown",
      "metadata": {
        "id": "Q7TMGaWOAuGU"
      },
      "source": [
        "# Introduction to computer vision with Keras and TensorFlow"
      ]
    },
    {
      "cell_type": "code",
      "execution_count": null,
      "metadata": {
        "collapsed": true,
        "id": "sWja9dm2AuGT"
      },
      "outputs": [],
      "source": [
        "# To have plots displayed inline, directly below the code cell that produced it.\n",
        "%matplotlib inline"
      ]
    },
    {
      "cell_type": "markdown",
      "metadata": {
        "id": "trPeQmwHAuGW"
      },
      "source": [
        "To understand the fundamentals of deep learning (for computer vision), we will walk through the basic steps of building two toy models for classifying handwritten numbers with accuracies surpassing 95%. \n",
        "\n",
        "The first model will be a basic fully-connected neural network, and the second model (next Colab) will be a deeper network that introduces the concepts of convolution and pooling."
      ]
    },
    {
      "cell_type": "markdown",
      "metadata": {
        "id": "vVeKU6vpAuGX"
      },
      "source": [
        "\n",
        "## The data\n",
        "\n",
        "Our goal is to construct and train an artificial neural network on thousands of images of handwritten digits so that it may successfully identify others when presented. \n",
        "\n",
        "To train and test our model, we will use the famous [MNIST database](http://yann.lecun.com/exdb/mnist/), contaning 60k images for training and 10k for validation. Each image is 28 x 28 pixels.\n"
      ]
    },
    {
      "cell_type": "markdown",
      "metadata": {
        "id": "a3zfNBijAuGY"
      },
      "source": [
        "<img src=\"https://upload.wikimedia.org/wikipedia/commons/2/27/MnistExamples.png\" >\n",
        "\n",
        "<sub><sup>Source: Josef Steppan (2017), Wikipedia, CC BY-SA 4.0.<sub><sup>"
      ]
    },
    {
      "cell_type": "markdown",
      "metadata": {
        "id": "W6gL4SwHAuGY"
      },
      "source": [
        "## Necessary Python Libraries\n",
        "\n",
        "Let us load what we need, including the data, which we can find in *keras*."
      ]
    },
    {
      "cell_type": "code",
      "execution_count": null,
      "metadata": {
        "id": "LkRwSMYpAuGZ"
      },
      "outputs": [],
      "source": [
        "import numpy as np                   \n",
        "import matplotlib.pyplot as plt      \n",
        "import random                        # random number generators\n",
        "\n",
        "from keras.datasets import mnist     # MNIST dataset is included in Keras\n",
        "from keras.models import Sequential  # Sequential models in Keras\n",
        "\n",
        "from keras.layers.core import Dense, Dropout, Activation # Types of layers to be used in our model\n",
        "from keras.utils import np_utils                         # NumPy related tools"
      ]
    },
    {
      "cell_type": "markdown",
      "metadata": {
        "id": "OfR19n7WAuGa"
      },
      "source": [
        "## Loading Training Data\n",
        "\n",
        "There is no need to look for the MNIST dataset elsewhere, as we can find it within *keras*."
      ]
    },
    {
      "cell_type": "code",
      "execution_count": null,
      "metadata": {
        "id": "hyndpgbgAuGb",
        "colab": {
          "base_uri": "https://localhost:8080/"
        },
        "outputId": "e2ace2f4-84f5-491e-fa50-85ba12f56b18"
      },
      "outputs": [
        {
          "output_type": "stream",
          "name": "stdout",
          "text": [
            "Downloading data from https://storage.googleapis.com/tensorflow/tf-keras-datasets/mnist.npz\n",
            "11490434/11490434 [==============================] - 0s 0us/step\n"
          ]
        }
      ],
      "source": [
        "# Let us load the data (training and validation/test)\n",
        "(X_train, Y_train), (X_test, y_test) = mnist.load_data()"
      ]
    },
    {
      "cell_type": "markdown",
      "metadata": {
        "id": "-y4KXsdVAuGb"
      },
      "source": [
        "To have an idea of the data, we can plot some sample images from the training set directly into this notebook."
      ]
    },
    {
      "cell_type": "code",
      "execution_count": null,
      "metadata": {
        "id": "B0l9n7BWAuGc",
        "colab": {
          "base_uri": "https://localhost:8080/",
          "height": 584
        },
        "outputId": "b1008783-82d5-4c6b-e92b-fb20ea7abf8d"
      },
      "outputs": [
        {
          "output_type": "display_data",
          "data": {
            "text/plain": [
              "<Figure size 576x576 with 16 Axes>"
            ],
            "image/png": "[encoded data removed]"
          },
          "metadata": {
            "needs_background": "light"
          }
        }
      ],
      "source": [
        "plt.rcParams['figure.figsize'] = (8,8) # to resize the single pics for display\n",
        "\n",
        "for i in range(16):\n",
        "    plt.subplot(4,4,i+1)\n",
        "    num = random.randint(0, len(X_train)) # at every run a different sample\n",
        "    plt.imshow(X_train[num], cmap='gray', interpolation='none')\n",
        "    plt.title(\"TARGET: Class {}\".format(Y_train[num]))\n",
        "    \n",
        "plt.tight_layout()"
      ]
    },
    {
      "cell_type": "markdown",
      "source": [
        "Therefore the target is a categorical variable (0 to 9), while the features relate to the pixels."
      ],
      "metadata": {
        "id": "kN_xDT5k51Aq"
      }
    },
    {
      "cell_type": "markdown",
      "metadata": {
        "id": "VqWlPRtLAuGd"
      },
      "source": [
        "But how does our machine recognize each number in the gray scale above?\n",
        "\n",
        "Let us have a look at the last digit in the picure above."
      ]
    },
    {
      "cell_type": "code",
      "source": [
        "plt.imshow(X_train[num], cmap='gray', interpolation='none')"
      ],
      "metadata": {
        "colab": {
          "base_uri": "https://localhost:8080/",
          "height": 498
        },
        "id": "kdLU8Mus7M4p",
        "outputId": "67fbaecd-a3cc-4211-85dc-37b6bc75e5d4"
      },
      "execution_count": null,
      "outputs": [
        {
          "output_type": "execute_result",
          "data": {
            "text/plain": [
              "<matplotlib.image.AxesImage at 0x7fcd063cbbb0>"
            ]
          },
          "metadata": {},
          "execution_count": 5
        },
        {
          "output_type": "display_data",
          "data": {
            "text/plain": [
              "<Figure size 576x576 with 1 Axes>"
            ],
            "image/png": "[encoded data removed]"
          },
          "metadata": {
            "needs_background": "light"
          }
        }
      ]
    },
    {
      "cell_type": "markdown",
      "source": [
        " We will use a function we write ourselves."
      ],
      "metadata": {
        "id": "XTUzaxxj7djI"
      }
    },
    {
      "cell_type": "code",
      "execution_count": null,
      "metadata": {
        "id": "-APsA3ZkAuGd",
        "colab": {
          "base_uri": "https://localhost:8080/"
        },
        "outputId": "538d01bd-1fed-4b1f-8791-c39473a3d771"
      },
      "outputs": [
        {
          "output_type": "stream",
          "name": "stdout",
          "text": [
            "0  0  0  0  0  0  0    0    0    0    0    0    0    0    0    0    0    0    0    0    0    0   0  0  0  0  0  0  \n",
            "0  0  0  0  0  0  0    0    0    0    0    0    0    0    0    0    0    0    0    0    0    0   0  0  0  0  0  0  \n",
            "0  0  0  0  0  0  0    0    0    0    0    0    0    0    0    0    0    0    0    0    0    0   0  0  0  0  0  0  \n",
            "0  0  0  0  0  0  0    0    0    0    0    0    0    0    0    0    0    0    0    0    0    0   0  0  0  0  0  0  \n",
            "0  0  0  0  0  0  0    0    0    0    0    0    0    0    0    0    0    0    0    0    0    0   0  0  0  0  0  0  \n",
            "0  0  0  0  0  0  0    0   74  155  245  255  239  155  155   74    0    0    0    0    0    0   0  0  0  0  0  0  \n",
            "0  0  0  0  0  0  0   54  230  253  253  253  253  253  253  253  186   17    0    0    0    0   0  0  0  0  0  0  \n",
            "0  0  0  0  0  0  0   65  253  253  253  253  253  253  253  253  253   39    0    0    0    0   0  0  0  0  0  0  \n",
            "0  0  0  0  0  0  0   65  254  253  184  133  189  234  233  250  254   39    0    0    0    0   0  0  0  0  0  0  \n",
            "0  0  0  0  0  0  0  133  253  231   17    0    0    0    0   64  141   28    0    0    0    0   0  0  0  0  0  0  \n",
            "0  0  0  0  0  0  0  114  253  187   30  103  169  167  229  228  130  129   43    0    0    0   0  0  0  0  0  0  \n",
            "0  0  0  0  0  0  0   99  253  253  253  253  253  253  253  253  253  253  180   44    0    0   0  0  0  0  0  0  \n",
            "0  0  0  0  0  0  0  164  253  253  253  253  253  253  253  253  253  253  253  197   57    0   0  0  0  0  0  0  \n",
            "0  0  0  0  0  0  0  164  254  253  253  253  253  216  160  158  159  239  253  254  173    0   0  0  0  0  0  0  \n",
            "0  0  0  0  0  0  0   67  253  239  114  104   49    3    1    0    0   10  170  248  252   98   0  0  0  0  0  0  \n",
            "0  0  0  0  0  0  0   13   49   35    0    0    0    0    0    0    0    0    0  144  253  219   0  0  0  0  0  0  \n",
            "0  0  0  0  0  0  0    0    0    0    0    0    0    0    0    0    0    0    0  126  253  219   0  0  0  0  0  0  \n",
            "0  0  0  0  0  0  0    0    0    0    0    0    0    0    0    0    0    0    0   86  253  232  26  0  0  0  0  0  \n",
            "0  0  0  0  0  0  0    0    0    0    0    0    0    0    0    0    0    0    0  125  253  232  26  0  0  0  0  0  \n",
            "0  0  0  0  0  0  0    0    0    0    0    0    0    0    0    0    0    0    0  126  253  250  57  0  0  0  0  0  \n",
            "0  0  0  0  0  0  0    0    0    0    0    0    0    0    0    0    0    0   54  204  253  242  44  0  0  0  0  0  \n",
            "0  0  0  0  0  0  0    0    0    0    0   26   30   14   21   35   59  180  247  254  253  219   0  0  0  0  0  0  \n",
            "0  0  0  0  0  0  0    0   51  189  189  236  243  215  227  253  254  253  253  254  194   56   0  0  0  0  0  0  \n",
            "0  0  0  0  0  0  0    0  103  254  253  254  253  254  253  253  254  253  253  182   36    0   0  0  0  0  0  0  \n",
            "0  0  0  0  0  0  0    0    5  152  163  226  214  216  153  193  153  199  159   28    0    0   0  0  0  0  0  0  \n",
            "0  0  0  0  0  0  0    0    0    0    0    0    0    0    0    0    0    0    0    0    0    0   0  0  0  0  0  0  \n",
            "0  0  0  0  0  0  0    0    0    0    0    0    0    0    0    0    0    0    0    0    0    0   0  0  0  0  0  0  \n",
            "0  0  0  0  0  0  0    0    0    0    0    0    0    0    0    0    0    0    0    0    0    0   0  0  0  0  0  0  \n"
          ]
        }
      ],
      "source": [
        "# just a little function for pretty printing a matrix\n",
        "def matplotnum(mat, fmt=\"g\"):\n",
        "    col_maxes = [max([len((\"{:\"+fmt+\"}\").format(x)) for x in col]) for col in mat.T]\n",
        "    for x in mat:\n",
        "        for i, y in enumerate(x):\n",
        "            print((\"{:\"+str(col_maxes[i])+fmt+\"}\").format(y), end=\"  \")\n",
        "        print(\"\")\n",
        "\n",
        "# now print!        \n",
        "matplotnum(X_train[num])"
      ]
    },
    {
      "cell_type": "markdown",
      "metadata": {
        "id": "uPDMtG1LAuGd"
      },
      "source": [
        "Each pixel is an 8-bit integer from 0-255. 0 is full black, while 255 is full white. \n",
        "\n",
        "This what we call a single-channel pixel, or monochrome."
      ]
    },
    {
      "cell_type": "markdown",
      "metadata": {
        "id": "sUrCKiwyAuGe"
      },
      "source": [
        "## Transforming the inputs (flattening and rescaling)\n",
        "\n",
        "Playing with 28 x 28 matrices is inefficient for our machines, looking at the manipulations we need in estimation. \n",
        "\n",
        "This is why we flatten each image, transforming a 28 x 28 matrix into a vector of length 784 (=28*28).\n",
        "\n",
        "$$\n",
        "\\left[\\begin{array}{ccc} 1 & 1 & 0 \\\\ 5 & 3 & 1\\\\ 0 & 0 & 2 \\end{array} \\right] \\to \\left[\\begin{array}{c} 1 & 1 & 0 & 5 & 3 & 1 & 0 & 0 & 2 \\end{array} \\right]\n",
        "$$\n",
        "\n",
        "The next step is to rescale the input. As usual, we can choose between standardization and normalization. In this setting, all numbers are non-negative (shades of gray from 0 to 255), therefore the sign is not relevant (differently from the California Housing case). As a consequence, we normalize our data.\n",
        "\n",
        "This implies removing the minimum from each value, and dividing by the range (i.e., max-min). Since the minimum is 0, we just have to divide each number by 255.\n",
        "\n"
      ]
    },
    {
      "cell_type": "code",
      "execution_count": null,
      "metadata": {
        "id": "J_HB82rjAuGe"
      },
      "outputs": [],
      "source": [
        "X_train = X_train.reshape(60000, 784) # reshape 28 x 28 matrices into 60,000 784-length vectors.\n",
        "X_test = X_test.reshape(10000, 784)  \n",
        "\n",
        "X_train = X_train.astype('float32')   # change integers to 32-bit floating point numbers\n",
        "X_test = X_test.astype('float32')\n",
        "\n",
        "X_train /= 255  # normalize in [0,1] each value in the entire vector for each input                     \n",
        "X_test /= 255"
      ]
    },
    {
      "cell_type": "markdown",
      "metadata": {
        "id": "do4TsfFoAuGf"
      },
      "source": [
        "## Transforming the output (one-hot format)\n",
        "\n",
        "We now modify the output using the so-called one-hot format (dummification in statistics).\n",
        "\n",
        "Each target can attain a value between 0 and 9, depending on the digit it represents.\n",
        "\n",
        "In the one-hot format, the digits from 0 to 9 are transformed as follows:\n",
        "\n",
        "```\n",
        "0 -> [1, 0, 0, 0, 0, 0, 0, 0, 0, 0]\n",
        "1 -> [0, 1, 0, 0, 0, 0, 0, 0, 0, 0]\n",
        "2 -> [0, 0, 1, 0, 0, 0, 0, 0, 0, 0]\n",
        "...\n",
        "9 -> [0, 0, 0, 0, 0, 0, 0, 0, 0, 1]\n",
        "```\n",
        "This format is convenient, because it allows Python to provide its estimate very conveniently.\n",
        "\n",
        "For instance, an image representing a 2 could be classified as follows:\n",
        "\n",
        "```\n",
        "[0, 0, 0.98, 0, 0, 0, 0, 0, 0, 0.02],\n",
        "```\n",
        "indicating that the value 2 is the most probable (98%)."
      ]
    },
    {
      "cell_type": "code",
      "execution_count": null,
      "metadata": {
        "collapsed": true,
        "id": "BqIaPSOQAuGf"
      },
      "outputs": [],
      "source": [
        "# Dummification\n",
        "nb_classes = 10 # number of unique digits\n",
        "Y_train = np_utils.to_categorical(Y_train, nb_classes)\n",
        "Y_test = np_utils.to_categorical(y_test, nb_classes)"
      ]
    },
    {
      "cell_type": "markdown",
      "metadata": {
        "id": "dat1HgcvAuGf"
      },
      "source": [
        "# Time to build our network\n",
        "\n",
        "<img src=\"https://zitaoshen.rbind.io/project/machine_learning/how-to-build-your-own-neural-net-from-the-scrach/featured.png\" />"
      ]
    },
    {
      "cell_type": "code",
      "execution_count": null,
      "metadata": {
        "collapsed": true,
        "id": "0xL2i8jtAuGg"
      },
      "outputs": [],
      "source": [
        "# As usual, we start from the basic sequential model.\n",
        "model = Sequential()"
      ]
    },
    {
      "cell_type": "markdown",
      "metadata": {
        "id": "62tM61jdAuGg"
      },
      "source": [
        "## The first hidden layer\n",
        "\n",
        "When dealing with images, it is convenient to start with a large number of nodes in the first hidden layer. Usually, one starts with a large power of 2. \n",
        "\n",
        "Common values are $258=2^8$ and $512=2^9$."
      ]
    },
    {
      "cell_type": "code",
      "execution_count": null,
      "metadata": {
        "collapsed": true,
        "id": "l5-Z9Zs7AuGg"
      },
      "outputs": [],
      "source": [
        "# We choose to start with 512 units in the first HL\n",
        "model.add(Dense(512, input_shape=(784,))) \n",
        "# Recall that we have 784-long vectors. "
      ]
    },
    {
      "cell_type": "code",
      "execution_count": null,
      "metadata": {
        "collapsed": true,
        "id": "P2VbXywCAuGh"
      },
      "outputs": [],
      "source": [
        "# Now we choose the activation function. Let us go for the famous relu\n",
        "model.add(Activation('relu'))"
      ]
    },
    {
      "cell_type": "markdown",
      "source": [
        "**Question for you:** what about using another activation function, like *tanh* or *sigmoid*? Would it make sense?\n",
        "\n",
        "*Also check the exercise at the end of the notebook.*"
      ],
      "metadata": {
        "id": "ibjqX8-8ExOQ"
      }
    },
    {
      "cell_type": "code",
      "execution_count": null,
      "metadata": {
        "collapsed": true,
        "id": "CHpD-qD6AuGh"
      },
      "outputs": [],
      "source": [
        "# Given the large number of units, it can be convenient to use dropout\n",
        "# regularization, to avoid overfitting.\n",
        "model.add(Dropout(0.2))"
      ]
    },
    {
      "cell_type": "markdown",
      "metadata": {
        "id": "PlsgtxpTAuGi"
      },
      "source": [
        "## Adding the second hidden layer\n",
        "\n",
        "For the second layer, let us choose a smaller number of nodes, say half of 512.\n",
        "\n",
        "Also here we play with relu and dropout."
      ]
    },
    {
      "cell_type": "code",
      "execution_count": null,
      "metadata": {
        "collapsed": true,
        "id": "jQvK23LAAuGi"
      },
      "outputs": [],
      "source": [
        "model.add(Dense(256))\n",
        "model.add(Activation('relu'))\n",
        "model.add(Dropout(0.2))"
      ]
    },
    {
      "cell_type": "markdown",
      "metadata": {
        "id": "UNiXZwgPAuGi"
      },
      "source": [
        "## The Final Output Layer"
      ]
    },
    {
      "cell_type": "code",
      "execution_count": null,
      "metadata": {
        "collapsed": true,
        "id": "almqthzVAuGi"
      },
      "outputs": [],
      "source": [
        "# The final layer needs to give 10 possible answers (digits from 0 to 9).\n",
        "# Therefore its structure is pretty obvious.\n",
        "model.add(Dense(10))"
      ]
    },
    {
      "cell_type": "code",
      "execution_count": null,
      "metadata": {
        "collapsed": true,
        "id": "uCHyCS8eAuGj"
      },
      "outputs": [],
      "source": [
        "# The \"softmax\" activation represents a probability distribution over k different possible outcomes.\n",
        "# Its values are all non-negative and sum to 1 (like the probabilities over the\n",
        "# vectors of the form [0, 0, 0.98, 0, 0, 0, 0, 0, 0, 0.02]).\n",
        "\n",
        "model.add(Activation('softmax'))"
      ]
    },
    {
      "cell_type": "markdown",
      "source": [
        "The [softmax function](https://en.wikipedia.org/wiki/Softmax_function) is defined as $\\sigma(\\mathbf{z})_i = \\frac{e^{z_i}}{\\sum_{j=1}^K e^{z_j}}$, for $i=1,...,k$, where $k$ is the number of items in the set (for us $k=10$). It is a function converting a vector of k real numbers into a probability distribution of k possible outcomes. In statistics it is used in the multinomial (logistic) regression. In probability theory, the output of the softmax function can be used to represent a categorical distribution."
      ],
      "metadata": {
        "id": "NxY4IENaNh-h"
      }
    },
    {
      "cell_type": "code",
      "execution_count": null,
      "metadata": {
        "id": "VSwzsAPKAuGj",
        "colab": {
          "base_uri": "https://localhost:8080/"
        },
        "outputId": "c82b8df9-4198-4744-c38f-c14332ec257a"
      },
      "outputs": [
        {
          "output_type": "stream",
          "name": "stdout",
          "text": [
            "Model: \"sequential\"\n",
            "_________________________________________________________________\n",
            " Layer (type)                Output Shape              Param #   \n",
            "=================================================================\n",
            " dense (Dense)               (None, 512)               401920    \n",
            "                                                                 \n",
            " activation (Activation)     (None, 512)               0         \n",
            "                                                                 \n",
            " dropout (Dropout)           (None, 512)               0         \n",
            "                                                                 \n",
            " dense_1 (Dense)             (None, 256)               131328    \n",
            "                                                                 \n",
            " activation_1 (Activation)   (None, 256)               0         \n",
            "                                                                 \n",
            " dropout_1 (Dropout)         (None, 256)               0         \n",
            "                                                                 \n",
            " dense_2 (Dense)             (None, 10)                2570      \n",
            "                                                                 \n",
            " activation_2 (Activation)   (None, 10)                0         \n",
            "                                                                 \n",
            "=================================================================\n",
            "Total params: 535,818\n",
            "Trainable params: 535,818\n",
            "Non-trainable params: 0\n",
            "_________________________________________________________________\n"
          ]
        }
      ],
      "source": [
        "# Summarize the built model\n",
        "\n",
        "model.summary()"
      ]
    },
    {
      "cell_type": "markdown",
      "source": [
        "**Please notice:** even a simple network like ours has a very large number of parameters to be trained!"
      ],
      "metadata": {
        "id": "40rub9fCOCzz"
      }
    },
    {
      "cell_type": "markdown",
      "metadata": {
        "id": "nwXlMLveAuGj"
      },
      "source": [
        "## Compiling the model\n",
        "\n",
        "When compiling a model, Keras asks us to specify your **loss function** and your **optimizer**. \n",
        "\n",
        "The loss function we use is called *categorical cross-entropy*, which is well-suited for comparing two probability distributions.\n",
        "\n",
        "Our predictions are probability distributions across ten different digits.\n",
        "\n",
        "For instance, we are 98% confident an image is a 2, even if there is a 2% probability it is actually a 9. Almost surely we reject the idea it is a 0, or 1, or 3, etc.\n",
        "\n",
        "The cross-entropy is a measure of how different your predicted distribution is from the target distribution. [Check Wikipedia for more info](https://en.wikipedia.org/wiki/Cross_entropy).\n",
        "\n",
        "If $P$ and $Q$ are two discrete (possibly degenerate) probability mass functions (as in our case) on the same set $\\mathcal{X}$ (for us [0,1,...,9]), then cross-entropy is computed as\n",
        "\n",
        "$$\n",
        "H(P,Q) = -\\sum_{x\\in\\mathcal{X}} P(x)\\, \\log Q(x).\n",
        "$$\n",
        "\n",
        "The smaller the value $H(P,Q)$ the closer the two probability mass functions are.\n",
        "\n",
        "In keras, this type of cross-entropy is called *categorical_crossentropy*, to distinguish it from the continuous case.\n",
        "\n",
        "Recall that the optimizer helps determine how quickly the model learns through **gradient descent**. Also recall that the rate at which the impacts of the gradient are applied is called **learning rate** (and we can control it).\n"
      ]
    },
    {
      "cell_type": "code",
      "execution_count": null,
      "metadata": {
        "collapsed": true,
        "id": "N6dHcuQBAuGl"
      },
      "outputs": [],
      "source": [
        "# Let's use the Adam optimizer for learning\n",
        "model.compile(loss='categorical_crossentropy', optimizer='adam', metrics=['accuracy'])"
      ]
    },
    {
      "cell_type": "markdown",
      "metadata": {
        "id": "Z_tLudRSAuGl"
      },
      "source": [
        "## Let us train!\n",
        "Time to choose the batch size and the epochs.\n",
        "We choose $2^7=128$ for the batch size, and $10$ for the epochs.\n"
      ]
    },
    {
      "cell_type": "code",
      "execution_count": null,
      "metadata": {
        "id": "GoVgQY7YAuGl",
        "colab": {
          "base_uri": "https://localhost:8080/"
        },
        "outputId": "06750a3f-256c-4bfc-ea64-4f8be95954f4"
      },
      "outputs": [
        {
          "output_type": "stream",
          "name": "stdout",
          "text": [
            "Epoch 1/10\n",
            "469/469 [==============================] - 16s 29ms/step - loss: 0.2650 - accuracy: 0.9221\n",
            "Epoch 2/10\n",
            "469/469 [==============================] - 8s 18ms/step - loss: 0.1081 - accuracy: 0.9675\n",
            "Epoch 3/10\n",
            "469/469 [==============================] - 7s 15ms/step - loss: 0.0779 - accuracy: 0.9755\n",
            "Epoch 4/10\n",
            "469/469 [==============================] - 8s 18ms/step - loss: 0.0598 - accuracy: 0.9809\n",
            "Epoch 5/10\n",
            "469/469 [==============================] - 8s 18ms/step - loss: 0.0483 - accuracy: 0.9842\n",
            "Epoch 6/10\n",
            "469/469 [==============================] - 7s 15ms/step - loss: 0.0427 - accuracy: 0.9859\n",
            "Epoch 7/10\n",
            "469/469 [==============================] - 8s 18ms/step - loss: 0.0359 - accuracy: 0.9879\n",
            "Epoch 8/10\n",
            "469/469 [==============================] - 8s 16ms/step - loss: 0.0322 - accuracy: 0.9896\n",
            "Epoch 9/10\n",
            "469/469 [==============================] - 8s 17ms/step - loss: 0.0291 - accuracy: 0.9903\n",
            "Epoch 10/10\n",
            "469/469 [==============================] - 8s 18ms/step - loss: 0.0238 - accuracy: 0.9921\n"
          ]
        },
        {
          "output_type": "execute_result",
          "data": {
            "text/plain": [
              "<keras.callbacks.History at 0x7fcd097c50d0>"
            ]
          },
          "metadata": {},
          "execution_count": 18
        }
      ],
      "source": [
        "model.fit(X_train, Y_train,\n",
        "          batch_size=128, epochs=10,\n",
        "          verbose=1)\n",
        "# verbose is used to see the progress of the process ('auto', 0, 1, 2)"
      ]
    },
    {
      "cell_type": "markdown",
      "metadata": {
        "id": "hBrZyQtzAuGl"
      },
      "source": [
        "The two numbers, in order, represent the value of the loss function of the network on the training set, and the overall accuracy of the network on the training data. On the training data, results are flattering.\n",
        "\n",
        "Notice that 469 is nothing but $\\approx\\frac{60000}{128}$.\n"
      ]
    },
    {
      "cell_type": "markdown",
      "metadata": {
        "id": "I8O_udRlAuGm"
      },
      "source": [
        "## Evaluate Model's Accuracy on Test Data\n",
        "\n",
        "How does our model generalize?\n",
        "\n",
        "Let us check on the test data."
      ]
    },
    {
      "cell_type": "code",
      "execution_count": null,
      "metadata": {
        "id": "LVMxikQIAuGm",
        "colab": {
          "base_uri": "https://localhost:8080/"
        },
        "outputId": "7b7c8966-6ca5-4c8c-8b79-792118d97f02"
      },
      "outputs": [
        {
          "output_type": "stream",
          "name": "stdout",
          "text": [
            "313/313 [==============================] - 2s 5ms/step - loss: 0.0691 - accuracy: 0.9820\n",
            "Test score: 0.0691257193684578\n",
            "Test accuracy: 0.9819999933242798\n"
          ]
        }
      ],
      "source": [
        "score = model.evaluate(X_test, Y_test)\n",
        "print('Test score:', score[0])\n",
        "print('Test accuracy:', score[1])"
      ]
    },
    {
      "cell_type": "markdown",
      "source": [
        "Not bad at all!"
      ],
      "metadata": {
        "id": "FWBwtk6BKG5b"
      }
    },
    {
      "cell_type": "markdown",
      "metadata": {
        "id": "GJNavp_NAuGn"
      },
      "source": [
        "# Exercise for you: Experiment with the network!\n",
        "\n",
        "* How does increasing the batch size to 8192 affect the training time and test accuracy?\n",
        "\n",
        "* How about a batch size of 32?\n",
        "\n",
        "* What about a different activation function?\n",
        "\n"
      ]
    },
    {
      "cell_type": "code",
      "source": [
        "#@title Possible answers\n",
        "#\n",
        "# 1) The training speed increases, the difference in accuracy is not statistically\n",
        "#    significant.\n",
        "# 2) It takes definitely longer, again no major difference in accuracy. \n",
        "# 3) Some choices like tanh do not really make sense, given the supports.\n",
        "#    Non-negative a.f. give similar results (to relu), but are more computationally\n",
        "#    expensive."
      ],
      "metadata": {
        "id": "3Cy1m97yFStT",
        "cellView": "form"
      },
      "execution_count": null,
      "outputs": []
    },
    {
      "cell_type": "markdown",
      "source": [
        "# More about the output\n",
        "With all statistical models, and networks are no exception, it is fundamental to have a look at the output (predictions). In particular, it is important to understand what works and what does not.\n"
      ],
      "metadata": {
        "id": "hH68gWylg0SI"
      }
    },
    {
      "cell_type": "code",
      "source": [
        "# Let us extract the predictted classes\n",
        "predicted_classes = np.argmax(model.predict(X_test), axis=-1)\n",
        "\n",
        "# Check which items we correctly classified and which not.\n",
        "correct_classes = np.nonzero(predicted_classes == y_test)[0]\n",
        "incorrect_classes = np.nonzero(predicted_classes != y_test)[0]\n",
        "\n",
        "print('Correct:', len(correct_classes)/10000)\n",
        "print('Incorrect:', len(incorrect_classes)/10000)"
      ],
      "metadata": {
        "colab": {
          "base_uri": "https://localhost:8080/"
        },
        "id": "hqOrGio3goZZ",
        "outputId": "6715790a-cf2a-41ca-c2fa-48c4677f720c"
      },
      "execution_count": null,
      "outputs": [
        {
          "output_type": "stream",
          "name": "stdout",
          "text": [
            "313/313 [==============================] - 2s 5ms/step\n",
            "Correct: 0.982\n",
            "Incorrect: 0.018\n"
          ]
        }
      ]
    },
    {
      "cell_type": "code",
      "source": [
        "#@title Correctly classified\n",
        "plt.figure()\n",
        "for i, correct in enumerate(correct_classes[:9]):\n",
        "    plt.subplot(3,3,i+1)\n",
        "    plt.imshow(X_test[correct].reshape(28,28), cmap='gray', interpolation='none')\n",
        "    plt.title(\"Predicted {}\".format(predicted_classes[correct]))\n",
        "    \n",
        "plt.tight_layout()\n",
        "    "
      ],
      "metadata": {
        "colab": {
          "base_uri": "https://localhost:8080/",
          "height": 584
        },
        "id": "Omf6yEmSgvnl",
        "outputId": "fdb6b0b1-6c5a-4d93-bcda-840214120fb7"
      },
      "execution_count": null,
      "outputs": [
        {
          "output_type": "display_data",
          "data": {
            "text/plain": [
              "<Figure size 576x576 with 9 Axes>"
            ],
            "image/png": "[encoded data removed]"
          },
          "metadata": {
            "needs_background": "light"
          }
        }
      ]
    },
    {
      "cell_type": "code",
      "source": [
        "#@title Incorrectly classified\n",
        "plt.figure()\n",
        "for i, incorrect in enumerate(incorrect_classes[:9]):\n",
        "    plt.subplot(3,3,i+1)\n",
        "    plt.imshow(X_test[incorrect].reshape(28,28), cmap='gray', interpolation='none')\n",
        "    plt.title(\"Predicted {} \".format(predicted_classes[incorrect]))\n",
        "    \n",
        "plt.tight_layout()"
      ],
      "metadata": {
        "colab": {
          "base_uri": "https://localhost:8080/",
          "height": 584
        },
        "id": "2SZXWcsUkCGA",
        "outputId": "143b216a-47b6-48d8-e794-6b307481c35b"
      },
      "execution_count": null,
      "outputs": [
        {
          "output_type": "display_data",
          "data": {
            "text/plain": [
              "<Figure size 576x576 with 9 Axes>"
            ],
            "image/png": "[encoded data removed]"
          },
          "metadata": {
            "needs_background": "light"
          }
        }
      ]
    },
    {
      "cell_type": "markdown",
      "source": [
        "The lesson continues in the next Colab file."
      ],
      "metadata": {
        "id": "3IqDSIHCORiy"
      }
    }
  ],
  "metadata": {
    "kernelspec": {
      "display_name": "Tensorflow (GPU)",
      "language": "python",
      "name": "py3.6-tfgpu"
    },
    "language_info": {
      "codemirror_mode": {
        "name": "ipython",
        "version": 3
      },
      "file_extension": ".py",
      "mimetype": "text/x-python",
      "name": "python",
      "nbconvert_exporter": "python",
      "pygments_lexer": "ipython3",
      "version": "3.6.6"
    },
    "colab": {
      "provenance": [],
      "include_colab_link": true
    }
  },
  "nbformat": 4,
  "nbformat_minor": 0
}